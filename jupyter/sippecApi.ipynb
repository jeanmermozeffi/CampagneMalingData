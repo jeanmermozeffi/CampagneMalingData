{
 "cells": [
  {
   "metadata": {},
   "cell_type": "markdown",
   "source": "## Importation de bibliotheque",
   "id": "fd2004f5dbcbfca6"
  },
  {
   "cell_type": "code",
   "id": "initial_id",
   "metadata": {
    "collapsed": true,
    "ExecuteTime": {
     "end_time": "2024-08-05T10:10:57.078116Z",
     "start_time": "2024-08-05T10:10:56.904802Z"
    }
   },
   "source": [
    "from datetime import datetime\n",
    "import pandas as pd\n",
    "import os\n",
    "\n",
    "import gspread\n",
    "from gspread_dataframe import set_with_dataframe\n",
    "from modules.sippec.sippecapi import SippecAPI\n",
    "from google.oauth2.service_account import Credentials"
   ],
   "outputs": [],
   "execution_count": 4
  },
  {
   "metadata": {},
   "cell_type": "code",
   "source": [
    "CREDENTIALS_PATH = '/Users/jeanmermozeffi/DataspellProjects/scraping-master/credential/secret-reporting-sheet.json'\n",
    "credentials = Credentials.from_service_account_file(CREDENTIALS_PATH, scopes=['https://www.googleapis.com/auth/spreadsheets', 'https://www.googleapis.com/auth/drive'])\n",
    "gc = gspread.authorize(credentials)"
   ],
   "id": "c0c3cd344cfde1f0",
   "outputs": [],
   "execution_count": null
  },
  {
   "metadata": {
    "ExecuteTime": {
     "end_time": "2024-05-16T15:03:20.126611Z",
     "start_time": "2024-05-16T15:03:20.120489Z"
    }
   },
   "cell_type": "code",
   "source": "sippec_api = SippecAPI()",
   "id": "d34f8be875cc1b3e",
   "outputs": [],
   "execution_count": 2
  },
  {
   "metadata": {},
   "cell_type": "code",
   "source": [
    "first_day_previous_month , last_day_previous_month = sippec_api.get_month_ranges()\n",
    "first_day_previous_month , last_day_previous_month"
   ],
   "id": "6cbe9d79f53609a0",
   "outputs": [],
   "execution_count": null
  },
  {
   "metadata": {},
   "cell_type": "code",
   "source": "sippec_data = sippec_api.get_sippec_data()",
   "id": "dae776435cf53d15",
   "outputs": [],
   "execution_count": null
  },
  {
   "metadata": {},
   "cell_type": "code",
   "source": "len(sippec_data)",
   "id": "a60396f86067ae86",
   "outputs": [],
   "execution_count": null
  },
  {
   "metadata": {},
   "cell_type": "code",
   "source": [
    "cleaned_data_category = sippec_api.process_datas_operators(sippec_data, 'datasCategorie')\n",
    "cleaned_data_category"
   ],
   "id": "1fa5af4f0ddd4a2b",
   "outputs": [],
   "execution_count": null
  },
  {
   "metadata": {},
   "cell_type": "code",
   "source": [
    "df_cleaned_data_category = pd.DataFrame(cleaned_data_category)\n",
    "df_cleaned_data_category.rename(columns={'libelle': 'Category'}, inplace=True)\n",
    "df_cleaned_data_category.head()"
   ],
   "id": "3621daa9a37b567c",
   "outputs": [],
   "execution_count": null
  },
  {
   "metadata": {},
   "cell_type": "code",
   "source": [
    "# df_cleaned_data_category['SommeNomreScan'] = df_cleaned_data_category['nbreScan'].sum()\n",
    "# df_cleaned_data_category['SommeNomreGroupeProduction'] = df_cleaned_data_category['nbreGroupeProduction'].sum()"
   ],
   "id": "fe44341eedfb843d",
   "outputs": [],
   "execution_count": null
  },
  {
   "metadata": {},
   "cell_type": "code",
   "source": [
    "# Vérifiez d'abord le type de données actuel de la colonne\n",
    "if df_cleaned_data_category['Category'].dtype == 'object':\n",
    "    df_cleaned_data_category['Category'] = df_cleaned_data_category['Category'].astype('string')"
   ],
   "id": "bf935ceb1db1ab68",
   "outputs": [],
   "execution_count": null
  },
  {
   "metadata": {},
   "cell_type": "code",
   "source": "df_cleaned_data_category = df_cleaned_data_category.drop(columns=['date'])",
   "id": "b7319d09f733dfff",
   "outputs": [],
   "execution_count": null
  },
  {
   "metadata": {},
   "cell_type": "code",
   "source": "df_cleaned_data_category",
   "id": "bf8b70672d6d2e31",
   "outputs": [],
   "execution_count": null
  },
  {
   "metadata": {},
   "cell_type": "markdown",
   "source": "## Definition fonction",
   "id": "71a96699efa66b71"
  },
  {
   "metadata": {},
   "cell_type": "code",
   "source": [
    "df_exploded_category = sippec_api.explode_and_rename(df=df_cleaned_data_category, columns_col='Category', value_cols=['nbreScan', 'nbreGroupeProduction'])\n",
    "df_exploded_category.head()"
   ],
   "id": "e4e67c20dd649f51",
   "outputs": [],
   "execution_count": null
  },
  {
   "metadata": {},
   "cell_type": "code",
   "source": [
    "\n",
    "categoty_file_path = 'Report SIPPEC Data Category.csv'\n",
    "category_save_path = sippec_api.create_folder_if_not_exists(categoty_file_path)\n",
    "df_cleaned_data_category.to_csv(category_save_path, index=False)"
   ],
   "id": "5bbc940b6a917a5",
   "outputs": [],
   "execution_count": null
  },
  {
   "metadata": {},
   "cell_type": "markdown",
   "source": "## Get Previous Data",
   "id": "f7ddb3f31beb665e"
  },
  {
   "metadata": {},
   "cell_type": "code",
   "source": [
    "spreadsheet_name = \"Reporting SIPPEC Academie Data\"\n",
    "sheet_name = \"Report Sippec\"\n",
    "previous_data = sippec_api.get_previous_month_data(spreadsheet_name, sheet_name)"
   ],
   "id": "ea3de94ebf146de4",
   "outputs": [],
   "execution_count": null
  },
  {
   "metadata": {},
   "cell_type": "code",
   "source": "previous_data",
   "id": "e3cdd03fc8c86a0e",
   "outputs": [],
   "execution_count": null
  },
  {
   "metadata": {},
   "cell_type": "markdown",
   "source": "## Calculate Rate Data",
   "id": "29466f93c668506c"
  },
  {
   "metadata": {},
   "cell_type": "code",
   "source": "df_exploded_previous_data_category = sippec_api.explode_and_rename(df=previous_data, columns_col='libelle_category', value_cols=['nbreScan', 'nbreGroupeProduction'])",
   "id": "4f4f9ac717fef38a",
   "outputs": [],
   "execution_count": null
  },
  {
   "metadata": {},
   "cell_type": "code",
   "source": [
    "SPREADSHEET_ACADEMIA_NAME = 'Reporting SIPPEC Academie Data'\n",
    "SHEET_NAME = f\"Reporting Sippec Data Month\"\n",
    "sippec_api.create_or_clear_worksheet(SPREADSHEET_ACADEMIA_NAME, SHEET_NAME, df_cleaned_data_category.iloc[:, :-1])"
   ],
   "id": "31f2929c2aad9866",
   "outputs": [],
   "execution_count": null
  },
  {
   "metadata": {},
   "cell_type": "markdown",
   "source": "## data operators",
   "id": "d9b07da75478ce59"
  },
  {
   "metadata": {},
   "cell_type": "code",
   "source": [
    "cleaned_data_operators = sippec_api.process_datas_operators(sippec_data, 'datasOperateur')\n",
    "cleaned_data_operators"
   ],
   "id": "38e4011addcc2121",
   "outputs": [],
   "execution_count": null
  },
  {
   "metadata": {},
   "cell_type": "code",
   "source": [
    "df_cleaned_data_operator = pd.DataFrame(cleaned_data_operators)\n",
    "df_cleaned_data_operator.rename(columns={'libelle': 'Operators'}, inplace=True)\n",
    "df_cleaned_data_operator.head()"
   ],
   "id": "97e0f1580d001999",
   "outputs": [],
   "execution_count": null
  },
  {
   "metadata": {},
   "cell_type": "code",
   "source": [
    "current_montant_total = df_cleaned_data_operator['montantTransaction'].sum()\n",
    "previous_montant_total = 595090"
   ],
   "id": "87a3f9d95b30e828",
   "outputs": [],
   "execution_count": null
  },
  {
   "metadata": {},
   "cell_type": "code",
   "source": [
    "rate_total = f\"{round(((current_montant_total - previous_montant_total) / previous_montant_total) * 100, 2)}%\"\n",
    "rate_total "
   ],
   "id": "a024a2e25b168f58",
   "outputs": [],
   "execution_count": null
  },
  {
   "metadata": {},
   "cell_type": "code",
   "source": "df_rate_montant = pd.DataFrame([rate_total], columns=['Taux Croissance Montant'])",
   "id": "a22bdbe1604015d9",
   "outputs": [],
   "execution_count": null
  },
  {
   "metadata": {},
   "cell_type": "code",
   "source": "sippec_api.create_or_clear_worksheet(SPREADSHEET_ACADEMIA_NAME, SHEET_NAME, df_rate_montant, df_row=1, col_row=13)\n",
   "id": "229b93ea9a2e25",
   "outputs": [],
   "execution_count": null
  },
  {
   "metadata": {},
   "cell_type": "code",
   "source": "df_cleaned_data_operator['Taux Croissance'] = df_cleaned_data_operator['Taux Croissance']",
   "id": "c7f6fdeb9197c158",
   "outputs": [],
   "execution_count": null
  },
  {
   "metadata": {},
   "cell_type": "code",
   "source": [
    "if df_cleaned_data_operator['Operators'].dtype == 'object':\n",
    "    df_cleaned_data_operator['Operators'] = df_cleaned_data_operator['Operators'].astype('string')"
   ],
   "id": "734b6c5e005cd60a",
   "outputs": [],
   "execution_count": null
  },
  {
   "metadata": {},
   "cell_type": "code",
   "source": "df_cleaned_data_operator.dtypes",
   "id": "26f3b88cefc68991",
   "outputs": [],
   "execution_count": null
  },
  {
   "metadata": {},
   "cell_type": "code",
   "source": "df_exploded_operator = sippec_api.explode_and_rename(df=df_cleaned_data_operator, columns_col='Operators', value_cols=['nbreTransaction', 'montantTransaction'])",
   "id": "c5e67d56ddee8c9e",
   "outputs": [],
   "execution_count": null
  },
  {
   "metadata": {},
   "cell_type": "code",
   "source": "df_exploded_operator.head()",
   "id": "18d233186d43ba9a",
   "outputs": [],
   "execution_count": null
  },
  {
   "metadata": {},
   "cell_type": "code",
   "source": "df_cleaned_data_operator.iloc[:, :-1]",
   "id": "c219305747cda44c",
   "outputs": [],
   "execution_count": null
  },
  {
   "metadata": {},
   "cell_type": "code",
   "source": [
    "operator_file_path = 'Report SIPPEC Data Operator.csv'\n",
    "save_path_operator = sippec_api.create_folder_if_not_exists(operator_file_path)\n",
    "df_cleaned_data_operator.to_csv(save_path_operator, index=False)"
   ],
   "id": "5191ab3f721f90f2",
   "outputs": [],
   "execution_count": null
  },
  {
   "metadata": {},
   "cell_type": "code",
   "source": [
    "SPREADSHEET_ACADEMIA_NAME = 'Reporting SIPPEC Academie Data'\n",
    "SHEET_NAME = f\"Reporting Sippec Data Month\""
   ],
   "id": "478bff28407029f7",
   "outputs": [],
   "execution_count": null
  },
  {
   "metadata": {},
   "cell_type": "code",
   "source": "sippec_api.create_or_clear_worksheet(SPREADSHEET_ACADEMIA_NAME, SHEET_NAME, df_cleaned_data_operator.iloc[:, :-1], df_row=1, col_row=5)",
   "id": "ea3d8f452ce759ef",
   "outputs": [],
   "execution_count": null
  },
  {
   "metadata": {},
   "cell_type": "code",
   "source": [
    "ACTIVITY_COLUMN = [\"ROYAL\", \"CHAMPION\", \"STAR\", \"AUTRE(S)\", \"PRINCE\"]\n",
    "OPERATOR_COLUMN = [\"ORANGE\", \"MTN\", \"MOOV\", \"AUTRES\"]\n",
    "PRODUCTION_COLUMN = [\"NOMBRE_SCAN\", \"NOMBRE_GROUPE_PRODUCTION\"]\n",
    "TRANSACTION_COLUMN = [\"NOMBRE_TRANSACTION\", \"MONTANT_TRANSACTION\"]\n",
    "CATEGORY_KEY = \"datasCategorie\"\n",
    "OPERATOR_KEY = \"datasOperateur\"\n",
    "RAPPORT_COLUMN = [\"ROYAL\", \"CHAMPION\", \"STAR\", \"AUTRE(S)\", \"PRINCE\", \"ORANGE\", \"MTN\", \"MOOV AFRICA\", \"AUTRE\"]"
   ],
   "id": "8b544a39185ee0b8",
   "outputs": [],
   "execution_count": null
  },
  {
   "metadata": {},
   "cell_type": "markdown",
   "source": "## Ademician Data",
   "id": "baa126b23c3face2"
  },
  {
   "metadata": {},
   "cell_type": "code",
   "source": [
    "academician_data = sippec_api.get_academician_data()\n",
    "academician_data"
   ],
   "id": "6107f99932c7d0bc",
   "outputs": [],
   "execution_count": null
  },
  {
   "metadata": {},
   "cell_type": "code",
   "source": [
    "df_academician_data = pd.DataFrame(academician_data)\n",
    "df_academician_data = df_academician_data[['libelle', 'valeur', 'date', 'codeCouleur']]\n",
    "df_academician_data.rename(columns={'libelle': 'Mode'}, inplace=True)\n",
    "df_academician_data.rename(columns={'valeur': 'Academiciens'}, inplace=True)\n",
    "df_academician_data.head()"
   ],
   "id": "792eed2a813290a2",
   "outputs": [],
   "execution_count": null
  },
  {
   "metadata": {},
   "cell_type": "code",
   "source": [
    "if df_academician_data['Mode'].dtype == 'object':\n",
    "    df_academician_data['Mode'] = df_academician_data['Mode'].astype('string')"
   ],
   "id": "7134e1d44ab9efd7",
   "outputs": [],
   "execution_count": null
  },
  {
   "metadata": {},
   "cell_type": "code",
   "source": "df_exploded_academiciens = sippec_api.explode_and_rename(df=df_academician_data, columns_col='Mode', value_cols=['Academiciens'])",
   "id": "2743ecb7ab4bde6a",
   "outputs": [],
   "execution_count": null
  },
  {
   "metadata": {},
   "cell_type": "code",
   "source": "df_exploded_academiciens.head()",
   "id": "3882c8f9da1698bc",
   "outputs": [],
   "execution_count": null
  },
  {
   "metadata": {},
   "cell_type": "code",
   "source": [
    "previous_data = df_exploded_academiciens.copy()\n",
    "current_data = df_exploded_academiciens.copy()"
   ],
   "id": "da646280a1fc1270",
   "outputs": [],
   "execution_count": null
  },
  {
   "metadata": {},
   "cell_type": "code",
   "source": [
    "previous_data.loc[0, 'ACTIF_Academiciens'] = 100\n",
    "previous_data.loc[0, 'BLOQUER_Academiciens'] = 160\n",
    "previous_data.loc[0, 'EN VEILLE_Academiciens'] = 25\n",
    "previous_data.loc[0, 'INACTIF_Academiciens'] = 2500\n",
    "previous_data.loc[0, 'SEMI ACTIF_Academiciens'] = 78"
   ],
   "id": "ad52a3f815605722",
   "outputs": [],
   "execution_count": null
  },
  {
   "metadata": {},
   "cell_type": "code",
   "source": "previous_data.head()",
   "id": "6253fc4bce01fc01",
   "outputs": [],
   "execution_count": null
  },
  {
   "metadata": {},
   "cell_type": "code",
   "source": [
    "ACADEMICIAN_FILE_PATH = 'Report SIPPEC Data Mode Activity.csv'\n",
    "SAVE_ACADEMICIAN_FILE_PATH = sippec_api.create_folder_if_not_exists(ACADEMICIAN_FILE_PATH)\n",
    "df_academician_data.to_csv(SAVE_ACADEMICIAN_FILE_PATH, index=False)"
   ],
   "id": "bafe68791a7e09a2",
   "outputs": [],
   "execution_count": null
  },
  {
   "metadata": {},
   "cell_type": "code",
   "source": "sippec_api.create_or_clear_worksheet(SPREADSHEET_ACADEMIA_NAME, SHEET_NAME, df_academician_data.iloc[:, :-2], df_row=1, col_row=9)",
   "id": "26bbcda9a6e918c2",
   "outputs": [],
   "execution_count": null
  },
  {
   "metadata": {},
   "cell_type": "markdown",
   "source": "## Rate ",
   "id": "102b0bd49ee4b1f4"
  },
  {
   "metadata": {},
   "cell_type": "code",
   "source": [
    "rates_columns = ['ACTIF_Academiciens', 'BLOQUER_Academiciens',\n",
    "                 'EN VEILLE_Academiciens', 'INACTIF_Academiciens',\n",
    "                 'SEMI ACTIF_Academiciens']"
   ],
   "id": "f023713183c41b7e",
   "outputs": [],
   "execution_count": null
  },
  {
   "metadata": {},
   "cell_type": "code",
   "source": "rates = sippec_api.get_multiple_scan_growth_rates(current_data, previous_data, rates_columns)",
   "id": "5d971db09239633d",
   "outputs": [],
   "execution_count": null
  },
  {
   "metadata": {},
   "cell_type": "code",
   "source": "rates",
   "id": "e723d01536167487",
   "outputs": [],
   "execution_count": null
  },
  {
   "metadata": {},
   "cell_type": "code",
   "source": [
    "rates_cleaned = {}\n",
    "for key, value in rates.items():\n",
    "    _key = key.replace(\"_Academiciens\", \"\")\n",
    "    rates_cleaned[_key] = value"
   ],
   "id": "bb8b726d34c30770",
   "outputs": [],
   "execution_count": null
  },
  {
   "metadata": {},
   "cell_type": "code",
   "source": "rates_cleaned",
   "id": "8868de72ca132c95",
   "outputs": [],
   "execution_count": null
  },
  {
   "metadata": {},
   "cell_type": "code",
   "source": [
    "df_academician_data_rate = df_academician_data.iloc[:, :-2]\n",
    "df_academician_data_rate"
   ],
   "id": "49db92736951f6dd",
   "outputs": [],
   "execution_count": null
  },
  {
   "metadata": {},
   "cell_type": "code",
   "source": "df_academician_data_rate['Taux Croissance'] = df_academician_data_rate['Mode'].map(rates_cleaned)",
   "id": "a316abac6afe73de",
   "outputs": [],
   "execution_count": null
  },
  {
   "metadata": {},
   "cell_type": "code",
   "source": "df_academician_data_rate",
   "id": "6d58db797ddcec3d",
   "outputs": [],
   "execution_count": null
  },
  {
   "metadata": {},
   "cell_type": "code",
   "source": "sippec_api.create_or_clear_worksheet(SPREADSHEET_ACADEMIA_NAME, SHEET_NAME, df_academician_data_rate, df_row=1, col_row=9)",
   "id": "d4b663d7c577ec89",
   "outputs": [],
   "execution_count": null
  },
  {
   "metadata": {},
   "cell_type": "markdown",
   "source": "## Classement Academicien",
   "id": "24a9de98b1bbb8db"
  },
  {
   "metadata": {},
   "cell_type": "markdown",
   "source": "### Montant",
   "id": "d2aa0f16c099a499"
  },
  {
   "metadata": {
    "ExecuteTime": {
     "end_time": "2024-05-16T15:03:51.703684Z",
     "start_time": "2024-05-16T15:03:40.867665Z"
    }
   },
   "cell_type": "code",
   "source": [
    "option = 'MONTANT_SCAN'\n",
    "data_montant_rankings, date_montant_ranking = sippec_api.get_academic_ranking(option)"
   ],
   "id": "8c89c24b33234575",
   "outputs": [],
   "execution_count": 3
  },
  {
   "metadata": {
    "ExecuteTime": {
     "end_time": "2024-05-16T15:03:54.262284Z",
     "start_time": "2024-05-16T15:03:54.252879Z"
    }
   },
   "cell_type": "code",
   "source": "data_montant_rankings",
   "id": "8d632b7b19c5658e",
   "outputs": [
    {
     "data": {
      "text/plain": [
       "[{'id': 3809,\n",
       "  'matricule': 'SIP03809-21',\n",
       "  'nom': 'DAKOURY',\n",
       "  'ROYAL_SOMME_SCAN': 0,\n",
       "  'ROYAL_TOTAL_SCAN': 0,\n",
       "  'date_ranking': '01/04/2024',\n",
       "  'CHAMPION_SOMME_SCAN': 92000,\n",
       "  'CHAMPION_TOTAL_SCAN': 184,\n",
       "  'STAR_SOMME_SCAN': 1000,\n",
       "  'STAR_TOTAL_SCAN': 4,\n",
       "  'AUTRE(S)_SOMME_SCAN': 0,\n",
       "  'AUTRE(S)_TOTAL_SCAN': 0,\n",
       "  'PRINCE_SOMME_SCAN': 0,\n",
       "  'PRINCE_TOTAL_SCAN': 0},\n",
       " {'id': 3896,\n",
       "  'matricule': 'SIP00062-22',\n",
       "  'nom': 'HONSOU',\n",
       "  'ROYAL_SOMME_SCAN': 80000,\n",
       "  'ROYAL_TOTAL_SCAN': 80,\n",
       "  'date_ranking': '01/04/2024',\n",
       "  'CHAMPION_SOMME_SCAN': 0,\n",
       "  'CHAMPION_TOTAL_SCAN': 0,\n",
       "  'STAR_SOMME_SCAN': 0,\n",
       "  'STAR_TOTAL_SCAN': 0,\n",
       "  'AUTRE(S)_SOMME_SCAN': 0,\n",
       "  'AUTRE(S)_TOTAL_SCAN': 0,\n",
       "  'PRINCE_SOMME_SCAN': 0,\n",
       "  'PRINCE_TOTAL_SCAN': 0},\n",
       " {'id': 2910,\n",
       "  'matricule': 'SIP02910-20',\n",
       "  'nom': 'DIARRA',\n",
       "  'ROYAL_SOMME_SCAN': 24000,\n",
       "  'ROYAL_TOTAL_SCAN': 24,\n",
       "  'date_ranking': '01/04/2024',\n",
       "  'CHAMPION_SOMME_SCAN': 0,\n",
       "  'CHAMPION_TOTAL_SCAN': 0,\n",
       "  'STAR_SOMME_SCAN': 0,\n",
       "  'STAR_TOTAL_SCAN': 0,\n",
       "  'AUTRE(S)_SOMME_SCAN': 0,\n",
       "  'AUTRE(S)_TOTAL_SCAN': 0,\n",
       "  'PRINCE_SOMME_SCAN': 15000,\n",
       "  'PRINCE_TOTAL_SCAN': 15},\n",
       " {'id': 4509,\n",
       "  'matricule': 'SIP00516-23',\n",
       "  'nom': 'GRAH',\n",
       "  'ROYAL_SOMME_SCAN': 11000,\n",
       "  'ROYAL_TOTAL_SCAN': 11,\n",
       "  'date_ranking': '01/04/2024',\n",
       "  'CHAMPION_SOMME_SCAN': 0,\n",
       "  'CHAMPION_TOTAL_SCAN': 0,\n",
       "  'STAR_SOMME_SCAN': 0,\n",
       "  'STAR_TOTAL_SCAN': 0,\n",
       "  'AUTRE(S)_SOMME_SCAN': 0,\n",
       "  'AUTRE(S)_TOTAL_SCAN': 0,\n",
       "  'PRINCE_SOMME_SCAN': 24000,\n",
       "  'PRINCE_TOTAL_SCAN': 24},\n",
       " {'id': 4124,\n",
       "  'matricule': 'SIP00138-23',\n",
       "  'nom': 'KOFFI',\n",
       "  'ROYAL_SOMME_SCAN': 15000,\n",
       "  'ROYAL_TOTAL_SCAN': 15,\n",
       "  'date_ranking': '01/04/2024',\n",
       "  'CHAMPION_SOMME_SCAN': 4000,\n",
       "  'CHAMPION_TOTAL_SCAN': 8,\n",
       "  'STAR_SOMME_SCAN': 11500,\n",
       "  'STAR_TOTAL_SCAN': 46,\n",
       "  'AUTRE(S)_SOMME_SCAN': 0,\n",
       "  'AUTRE(S)_TOTAL_SCAN': 0,\n",
       "  'PRINCE_SOMME_SCAN': 0,\n",
       "  'PRINCE_TOTAL_SCAN': 0}]"
      ]
     },
     "execution_count": 4,
     "metadata": {},
     "output_type": "execute_result"
    }
   ],
   "execution_count": 4
  },
  {
   "metadata": {
    "ExecuteTime": {
     "end_time": "2024-05-16T15:35:14.787999Z",
     "start_time": "2024-05-16T15:35:14.783487Z"
    }
   },
   "cell_type": "code",
   "source": "df_data_montant_rankings = pd.DataFrame(data_montant_rankings)",
   "id": "8517b5950bc83f7a",
   "outputs": [],
   "execution_count": 17
  },
  {
   "metadata": {
    "ExecuteTime": {
     "end_time": "2024-05-16T15:35:20.218260Z",
     "start_time": "2024-05-16T15:35:20.213334Z"
    }
   },
   "cell_type": "code",
   "source": "df_data_montant_rankings = df_data_montant_rankings.drop(['date_ranking', 'id'], axis=1)",
   "id": "dadebbca57f1fb47",
   "outputs": [],
   "execution_count": 18
  },
  {
   "metadata": {
    "ExecuteTime": {
     "end_time": "2024-05-16T15:35:23.530696Z",
     "start_time": "2024-05-16T15:35:23.519923Z"
    }
   },
   "cell_type": "code",
   "source": [
    "\n",
    "df_data_montant_rankings.head()"
   ],
   "id": "1e5ef9495dffdf4f",
   "outputs": [
    {
     "data": {
      "text/plain": [
       "     matricule      nom  ROYAL_SOMME_SCAN  ROYAL_TOTAL_SCAN  \\\n",
       "0  SIP03809-21  DAKOURY                 0                 0   \n",
       "1  SIP00062-22   HONSOU             80000                80   \n",
       "2  SIP02910-20   DIARRA             24000                24   \n",
       "3  SIP00516-23     GRAH             11000                11   \n",
       "4  SIP00138-23    KOFFI             15000                15   \n",
       "\n",
       "   CHAMPION_SOMME_SCAN  CHAMPION_TOTAL_SCAN  STAR_SOMME_SCAN  STAR_TOTAL_SCAN  \\\n",
       "0                92000                  184             1000                4   \n",
       "1                    0                    0                0                0   \n",
       "2                    0                    0                0                0   \n",
       "3                    0                    0                0                0   \n",
       "4                 4000                    8            11500               46   \n",
       "\n",
       "   AUTRE(S)_SOMME_SCAN  AUTRE(S)_TOTAL_SCAN  PRINCE_SOMME_SCAN  \\\n",
       "0                    0                    0                  0   \n",
       "1                    0                    0                  0   \n",
       "2                    0                    0              15000   \n",
       "3                    0                    0              24000   \n",
       "4                    0                    0                  0   \n",
       "\n",
       "   PRINCE_TOTAL_SCAN  \n",
       "0                  0  \n",
       "1                  0  \n",
       "2                 15  \n",
       "3                 24  \n",
       "4                  0  "
      ],
      "text/html": [
       "<div>\n",
       "<style scoped>\n",
       "    .dataframe tbody tr th:only-of-type {\n",
       "        vertical-align: middle;\n",
       "    }\n",
       "\n",
       "    .dataframe tbody tr th {\n",
       "        vertical-align: top;\n",
       "    }\n",
       "\n",
       "    .dataframe thead th {\n",
       "        text-align: right;\n",
       "    }\n",
       "</style>\n",
       "<table border=\"1\" class=\"dataframe\">\n",
       "  <thead>\n",
       "    <tr style=\"text-align: right;\">\n",
       "      <th></th>\n",
       "      <th>matricule</th>\n",
       "      <th>nom</th>\n",
       "      <th>ROYAL_SOMME_SCAN</th>\n",
       "      <th>ROYAL_TOTAL_SCAN</th>\n",
       "      <th>CHAMPION_SOMME_SCAN</th>\n",
       "      <th>CHAMPION_TOTAL_SCAN</th>\n",
       "      <th>STAR_SOMME_SCAN</th>\n",
       "      <th>STAR_TOTAL_SCAN</th>\n",
       "      <th>AUTRE(S)_SOMME_SCAN</th>\n",
       "      <th>AUTRE(S)_TOTAL_SCAN</th>\n",
       "      <th>PRINCE_SOMME_SCAN</th>\n",
       "      <th>PRINCE_TOTAL_SCAN</th>\n",
       "    </tr>\n",
       "  </thead>\n",
       "  <tbody>\n",
       "    <tr>\n",
       "      <th>0</th>\n",
       "      <td>SIP03809-21</td>\n",
       "      <td>DAKOURY</td>\n",
       "      <td>0</td>\n",
       "      <td>0</td>\n",
       "      <td>92000</td>\n",
       "      <td>184</td>\n",
       "      <td>1000</td>\n",
       "      <td>4</td>\n",
       "      <td>0</td>\n",
       "      <td>0</td>\n",
       "      <td>0</td>\n",
       "      <td>0</td>\n",
       "    </tr>\n",
       "    <tr>\n",
       "      <th>1</th>\n",
       "      <td>SIP00062-22</td>\n",
       "      <td>HONSOU</td>\n",
       "      <td>80000</td>\n",
       "      <td>80</td>\n",
       "      <td>0</td>\n",
       "      <td>0</td>\n",
       "      <td>0</td>\n",
       "      <td>0</td>\n",
       "      <td>0</td>\n",
       "      <td>0</td>\n",
       "      <td>0</td>\n",
       "      <td>0</td>\n",
       "    </tr>\n",
       "    <tr>\n",
       "      <th>2</th>\n",
       "      <td>SIP02910-20</td>\n",
       "      <td>DIARRA</td>\n",
       "      <td>24000</td>\n",
       "      <td>24</td>\n",
       "      <td>0</td>\n",
       "      <td>0</td>\n",
       "      <td>0</td>\n",
       "      <td>0</td>\n",
       "      <td>0</td>\n",
       "      <td>0</td>\n",
       "      <td>15000</td>\n",
       "      <td>15</td>\n",
       "    </tr>\n",
       "    <tr>\n",
       "      <th>3</th>\n",
       "      <td>SIP00516-23</td>\n",
       "      <td>GRAH</td>\n",
       "      <td>11000</td>\n",
       "      <td>11</td>\n",
       "      <td>0</td>\n",
       "      <td>0</td>\n",
       "      <td>0</td>\n",
       "      <td>0</td>\n",
       "      <td>0</td>\n",
       "      <td>0</td>\n",
       "      <td>24000</td>\n",
       "      <td>24</td>\n",
       "    </tr>\n",
       "    <tr>\n",
       "      <th>4</th>\n",
       "      <td>SIP00138-23</td>\n",
       "      <td>KOFFI</td>\n",
       "      <td>15000</td>\n",
       "      <td>15</td>\n",
       "      <td>4000</td>\n",
       "      <td>8</td>\n",
       "      <td>11500</td>\n",
       "      <td>46</td>\n",
       "      <td>0</td>\n",
       "      <td>0</td>\n",
       "      <td>0</td>\n",
       "      <td>0</td>\n",
       "    </tr>\n",
       "  </tbody>\n",
       "</table>\n",
       "</div>"
      ]
     },
     "execution_count": 19,
     "metadata": {},
     "output_type": "execute_result"
    }
   ],
   "execution_count": 19
  },
  {
   "metadata": {},
   "cell_type": "markdown",
   "source": "### Nombre",
   "id": "6a7d2bcef21de6c0"
  },
  {
   "metadata": {
    "ExecuteTime": {
     "end_time": "2024-05-16T15:35:38.640396Z",
     "start_time": "2024-05-16T15:35:27.986319Z"
    }
   },
   "cell_type": "code",
   "source": [
    "option = 'NBRE_SCAN'\n",
    "data_nombre_rankings, date_nombre_ranking = sippec_api.get_academic_ranking(option)"
   ],
   "id": "4500bd7252e738c8",
   "outputs": [],
   "execution_count": 20
  },
  {
   "metadata": {
    "ExecuteTime": {
     "end_time": "2024-05-16T15:35:41.053158Z",
     "start_time": "2024-05-16T15:35:41.045841Z"
    }
   },
   "cell_type": "code",
   "source": "data_nombre_rankings",
   "id": "91889c3d77a578b",
   "outputs": [
    {
     "data": {
      "text/plain": [
       "[{'id': 3809,\n",
       "  'matricule': 'SIP03809-21',\n",
       "  'nom': 'DAKOURY',\n",
       "  'ROYAL_SOMME_SCAN': 0,\n",
       "  'ROYAL_TOTAL_SCAN': 0,\n",
       "  'date_ranking': '01/04/2024',\n",
       "  'CHAMPION_SOMME_SCAN': 92000,\n",
       "  'CHAMPION_TOTAL_SCAN': 184,\n",
       "  'STAR_SOMME_SCAN': 1000,\n",
       "  'STAR_TOTAL_SCAN': 4,\n",
       "  'AUTRE(S)_SOMME_SCAN': 0,\n",
       "  'AUTRE(S)_TOTAL_SCAN': 0,\n",
       "  'PRINCE_SOMME_SCAN': 0,\n",
       "  'PRINCE_TOTAL_SCAN': 0},\n",
       " {'id': 3896,\n",
       "  'matricule': 'SIP00062-22',\n",
       "  'nom': 'HONSOU',\n",
       "  'ROYAL_SOMME_SCAN': 80000,\n",
       "  'ROYAL_TOTAL_SCAN': 80,\n",
       "  'date_ranking': '01/04/2024',\n",
       "  'CHAMPION_SOMME_SCAN': 0,\n",
       "  'CHAMPION_TOTAL_SCAN': 0,\n",
       "  'STAR_SOMME_SCAN': 0,\n",
       "  'STAR_TOTAL_SCAN': 0,\n",
       "  'AUTRE(S)_SOMME_SCAN': 0,\n",
       "  'AUTRE(S)_TOTAL_SCAN': 0,\n",
       "  'PRINCE_SOMME_SCAN': 0,\n",
       "  'PRINCE_TOTAL_SCAN': 0},\n",
       " {'id': 4124,\n",
       "  'matricule': 'SIP00138-23',\n",
       "  'nom': 'KOFFI',\n",
       "  'ROYAL_SOMME_SCAN': 15000,\n",
       "  'ROYAL_TOTAL_SCAN': 15,\n",
       "  'date_ranking': '01/04/2024',\n",
       "  'CHAMPION_SOMME_SCAN': 4000,\n",
       "  'CHAMPION_TOTAL_SCAN': 8,\n",
       "  'STAR_SOMME_SCAN': 11500,\n",
       "  'STAR_TOTAL_SCAN': 46,\n",
       "  'AUTRE(S)_SOMME_SCAN': 0,\n",
       "  'AUTRE(S)_TOTAL_SCAN': 0,\n",
       "  'PRINCE_SOMME_SCAN': 0,\n",
       "  'PRINCE_TOTAL_SCAN': 0},\n",
       " {'id': 9635,\n",
       "  'matricule': 'SIP00061-24',\n",
       "  'nom': 'KANTE',\n",
       "  'ROYAL_SOMME_SCAN': 1000,\n",
       "  'ROYAL_TOTAL_SCAN': 1,\n",
       "  'date_ranking': '01/04/2024',\n",
       "  'CHAMPION_SOMME_SCAN': 24500,\n",
       "  'CHAMPION_TOTAL_SCAN': 49,\n",
       "  'STAR_SOMME_SCAN': 3000,\n",
       "  'STAR_TOTAL_SCAN': 12,\n",
       "  'AUTRE(S)_SOMME_SCAN': 0,\n",
       "  'AUTRE(S)_TOTAL_SCAN': 0,\n",
       "  'PRINCE_SOMME_SCAN': 0,\n",
       "  'PRINCE_TOTAL_SCAN': 0},\n",
       " {'id': 4275,\n",
       "  'matricule': 'SIP00288-23',\n",
       "  'nom': 'ADJESSAN',\n",
       "  'ROYAL_SOMME_SCAN': 0,\n",
       "  'ROYAL_TOTAL_SCAN': 0,\n",
       "  'date_ranking': '01/04/2024',\n",
       "  'CHAMPION_SOMME_SCAN': 0,\n",
       "  'CHAMPION_TOTAL_SCAN': 0,\n",
       "  'STAR_SOMME_SCAN': 12500,\n",
       "  'STAR_TOTAL_SCAN': 50,\n",
       "  'AUTRE(S)_SOMME_SCAN': 0,\n",
       "  'AUTRE(S)_TOTAL_SCAN': 0,\n",
       "  'PRINCE_SOMME_SCAN': 0,\n",
       "  'PRINCE_TOTAL_SCAN': 0}]"
      ]
     },
     "execution_count": 21,
     "metadata": {},
     "output_type": "execute_result"
    }
   ],
   "execution_count": 21
  },
  {
   "metadata": {
    "ExecuteTime": {
     "end_time": "2024-05-16T15:36:18.773856Z",
     "start_time": "2024-05-16T15:36:18.765993Z"
    }
   },
   "cell_type": "code",
   "source": "df_data_nombre_rankings = pd.DataFrame(data_nombre_rankings)",
   "id": "c5f888d3f7ba11be",
   "outputs": [],
   "execution_count": 23
  },
  {
   "metadata": {
    "ExecuteTime": {
     "end_time": "2024-05-16T15:36:48.794310Z",
     "start_time": "2024-05-16T15:36:48.790122Z"
    }
   },
   "cell_type": "code",
   "source": "df_data_nombre_rankings = df_data_nombre_rankings.drop(['date_ranking', 'id'], axis=1)",
   "id": "30f10bb9063450a0",
   "outputs": [],
   "execution_count": 24
  },
  {
   "metadata": {
    "ExecuteTime": {
     "end_time": "2024-05-16T15:37:01.458950Z",
     "start_time": "2024-05-16T15:37:01.449833Z"
    }
   },
   "cell_type": "code",
   "source": "df_data_nombre_rankings.head()",
   "id": "b1e8a52d64f8c62f",
   "outputs": [
    {
     "data": {
      "text/plain": [
       "     matricule       nom  ROYAL_SOMME_SCAN  ROYAL_TOTAL_SCAN  \\\n",
       "0  SIP03809-21   DAKOURY                 0                 0   \n",
       "1  SIP00062-22    HONSOU             80000                80   \n",
       "2  SIP00138-23     KOFFI             15000                15   \n",
       "3  SIP00061-24     KANTE              1000                 1   \n",
       "4  SIP00288-23  ADJESSAN                 0                 0   \n",
       "\n",
       "   CHAMPION_SOMME_SCAN  CHAMPION_TOTAL_SCAN  STAR_SOMME_SCAN  STAR_TOTAL_SCAN  \\\n",
       "0                92000                  184             1000                4   \n",
       "1                    0                    0                0                0   \n",
       "2                 4000                    8            11500               46   \n",
       "3                24500                   49             3000               12   \n",
       "4                    0                    0            12500               50   \n",
       "\n",
       "   AUTRE(S)_SOMME_SCAN  AUTRE(S)_TOTAL_SCAN  PRINCE_SOMME_SCAN  \\\n",
       "0                    0                    0                  0   \n",
       "1                    0                    0                  0   \n",
       "2                    0                    0                  0   \n",
       "3                    0                    0                  0   \n",
       "4                    0                    0                  0   \n",
       "\n",
       "   PRINCE_TOTAL_SCAN  \n",
       "0                  0  \n",
       "1                  0  \n",
       "2                  0  \n",
       "3                  0  \n",
       "4                  0  "
      ],
      "text/html": [
       "<div>\n",
       "<style scoped>\n",
       "    .dataframe tbody tr th:only-of-type {\n",
       "        vertical-align: middle;\n",
       "    }\n",
       "\n",
       "    .dataframe tbody tr th {\n",
       "        vertical-align: top;\n",
       "    }\n",
       "\n",
       "    .dataframe thead th {\n",
       "        text-align: right;\n",
       "    }\n",
       "</style>\n",
       "<table border=\"1\" class=\"dataframe\">\n",
       "  <thead>\n",
       "    <tr style=\"text-align: right;\">\n",
       "      <th></th>\n",
       "      <th>matricule</th>\n",
       "      <th>nom</th>\n",
       "      <th>ROYAL_SOMME_SCAN</th>\n",
       "      <th>ROYAL_TOTAL_SCAN</th>\n",
       "      <th>CHAMPION_SOMME_SCAN</th>\n",
       "      <th>CHAMPION_TOTAL_SCAN</th>\n",
       "      <th>STAR_SOMME_SCAN</th>\n",
       "      <th>STAR_TOTAL_SCAN</th>\n",
       "      <th>AUTRE(S)_SOMME_SCAN</th>\n",
       "      <th>AUTRE(S)_TOTAL_SCAN</th>\n",
       "      <th>PRINCE_SOMME_SCAN</th>\n",
       "      <th>PRINCE_TOTAL_SCAN</th>\n",
       "    </tr>\n",
       "  </thead>\n",
       "  <tbody>\n",
       "    <tr>\n",
       "      <th>0</th>\n",
       "      <td>SIP03809-21</td>\n",
       "      <td>DAKOURY</td>\n",
       "      <td>0</td>\n",
       "      <td>0</td>\n",
       "      <td>92000</td>\n",
       "      <td>184</td>\n",
       "      <td>1000</td>\n",
       "      <td>4</td>\n",
       "      <td>0</td>\n",
       "      <td>0</td>\n",
       "      <td>0</td>\n",
       "      <td>0</td>\n",
       "    </tr>\n",
       "    <tr>\n",
       "      <th>1</th>\n",
       "      <td>SIP00062-22</td>\n",
       "      <td>HONSOU</td>\n",
       "      <td>80000</td>\n",
       "      <td>80</td>\n",
       "      <td>0</td>\n",
       "      <td>0</td>\n",
       "      <td>0</td>\n",
       "      <td>0</td>\n",
       "      <td>0</td>\n",
       "      <td>0</td>\n",
       "      <td>0</td>\n",
       "      <td>0</td>\n",
       "    </tr>\n",
       "    <tr>\n",
       "      <th>2</th>\n",
       "      <td>SIP00138-23</td>\n",
       "      <td>KOFFI</td>\n",
       "      <td>15000</td>\n",
       "      <td>15</td>\n",
       "      <td>4000</td>\n",
       "      <td>8</td>\n",
       "      <td>11500</td>\n",
       "      <td>46</td>\n",
       "      <td>0</td>\n",
       "      <td>0</td>\n",
       "      <td>0</td>\n",
       "      <td>0</td>\n",
       "    </tr>\n",
       "    <tr>\n",
       "      <th>3</th>\n",
       "      <td>SIP00061-24</td>\n",
       "      <td>KANTE</td>\n",
       "      <td>1000</td>\n",
       "      <td>1</td>\n",
       "      <td>24500</td>\n",
       "      <td>49</td>\n",
       "      <td>3000</td>\n",
       "      <td>12</td>\n",
       "      <td>0</td>\n",
       "      <td>0</td>\n",
       "      <td>0</td>\n",
       "      <td>0</td>\n",
       "    </tr>\n",
       "    <tr>\n",
       "      <th>4</th>\n",
       "      <td>SIP00288-23</td>\n",
       "      <td>ADJESSAN</td>\n",
       "      <td>0</td>\n",
       "      <td>0</td>\n",
       "      <td>0</td>\n",
       "      <td>0</td>\n",
       "      <td>12500</td>\n",
       "      <td>50</td>\n",
       "      <td>0</td>\n",
       "      <td>0</td>\n",
       "      <td>0</td>\n",
       "      <td>0</td>\n",
       "    </tr>\n",
       "  </tbody>\n",
       "</table>\n",
       "</div>"
      ]
     },
     "execution_count": 25,
     "metadata": {},
     "output_type": "execute_result"
    }
   ],
   "execution_count": 25
  },
  {
   "metadata": {},
   "cell_type": "code",
   "source": [
    "# CLASSEMENT_ACADEMICIAN_FILE_PATH = 'Report SIPPEC Data Classement Academicien.csv'\n",
    "# SAVE_CLASSEMENT_ACADEMICIAN_FILE_PATH = sippec_api.create_folder_if_not_exists(CLASSEMENT_ACADEMICIAN_FILE_PATH)\n",
    "# df_data_nombre_rankings.to_csv(SAVE_CLASSEMENT_ACADEMICIAN_FILE_PATH, index=False)"
   ],
   "id": "c75cd8eb5be188ee",
   "outputs": [],
   "execution_count": null
  },
  {
   "metadata": {},
   "cell_type": "code",
   "source": "# df_data_rankings = pd.read_csv('Resultats/Report SIPPEC Data Classement Academicien.csv')",
   "id": "63c271f87fe4aba9",
   "outputs": [],
   "execution_count": null
  },
  {
   "metadata": {
    "ExecuteTime": {
     "end_time": "2024-05-16T15:13:20.164731Z",
     "start_time": "2024-05-16T15:13:20.154584Z"
    }
   },
   "cell_type": "code",
   "source": "SPREADSHEET_NAME_CLASSEMENT = 'SIPPEC Classement Academicien Data'",
   "id": "c6c3de28ab406dc9",
   "outputs": [],
   "execution_count": 9
  },
  {
   "metadata": {
    "ExecuteTime": {
     "end_time": "2024-05-16T15:40:13.164237Z",
     "start_time": "2024-05-16T15:40:08.587856Z"
    }
   },
   "cell_type": "code",
   "source": [
    "SHEET_NAME_MONTANT = f\"Classement_SCAN_MONTANT\"\n",
    "sippec_api.create_or_clear_worksheet(SPREADSHEET_NAME_CLASSEMENT, SHEET_NAME_MONTANT, df_data_montant_rankings)"
   ],
   "id": "d01f265076f3e105",
   "outputs": [],
   "execution_count": 29
  },
  {
   "metadata": {
    "ExecuteTime": {
     "end_time": "2024-05-16T15:40:20.225604Z",
     "start_time": "2024-05-16T15:40:17.187208Z"
    }
   },
   "cell_type": "code",
   "source": [
    "SHEET_NAME_NOMBRE = f\"Classement_SCAN_NOMBRE\"\n",
    "sippec_api.create_or_clear_worksheet(SPREADSHEET_NAME_CLASSEMENT, SHEET_NAME_NOMBRE, df_data_nombre_rankings)"
   ],
   "id": "5e02fec337758029",
   "outputs": [],
   "execution_count": 30
  },
  {
   "metadata": {},
   "cell_type": "code",
   "source": "",
   "id": "fd340863420dc651",
   "outputs": [],
   "execution_count": null
  },
  {
   "metadata": {},
   "cell_type": "code",
   "source": "",
   "id": "d17698f922403af6",
   "outputs": [],
   "execution_count": null
  },
  {
   "metadata": {},
   "cell_type": "markdown",
   "source": "## Importation fichiers csv data",
   "id": "e21408db759735b9"
  },
  {
   "metadata": {
    "ExecuteTime": {
     "end_time": "2024-05-16T14:07:35.944803Z",
     "start_time": "2024-05-16T14:07:35.926079Z"
    }
   },
   "cell_type": "code",
   "source": [
    "df_cleaned_data_category = pd.read_csv('Resultats/Report SIPPEC Data Category.csv')\n",
    "df_cleaned_data_category.head()"
   ],
   "id": "cf46656b9a5819c0",
   "outputs": [
    {
     "data": {
      "text/plain": [
       "   Category  nbreScan  nbreGroupeProduction        date\n",
       "0     ROYAL       390                  1028  01/04/2024\n",
       "1  CHAMPION       690                     0  01/04/2024\n",
       "2      STAR       551                     0  01/04/2024\n",
       "3  AUTRE(S)        14                     0  01/04/2024\n",
       "4    PRINCE        72                   514  01/04/2024"
      ],
      "text/html": [
       "<div>\n",
       "<style scoped>\n",
       "    .dataframe tbody tr th:only-of-type {\n",
       "        vertical-align: middle;\n",
       "    }\n",
       "\n",
       "    .dataframe tbody tr th {\n",
       "        vertical-align: top;\n",
       "    }\n",
       "\n",
       "    .dataframe thead th {\n",
       "        text-align: right;\n",
       "    }\n",
       "</style>\n",
       "<table border=\"1\" class=\"dataframe\">\n",
       "  <thead>\n",
       "    <tr style=\"text-align: right;\">\n",
       "      <th></th>\n",
       "      <th>Category</th>\n",
       "      <th>nbreScan</th>\n",
       "      <th>nbreGroupeProduction</th>\n",
       "      <th>date</th>\n",
       "    </tr>\n",
       "  </thead>\n",
       "  <tbody>\n",
       "    <tr>\n",
       "      <th>0</th>\n",
       "      <td>ROYAL</td>\n",
       "      <td>390</td>\n",
       "      <td>1028</td>\n",
       "      <td>01/04/2024</td>\n",
       "    </tr>\n",
       "    <tr>\n",
       "      <th>1</th>\n",
       "      <td>CHAMPION</td>\n",
       "      <td>690</td>\n",
       "      <td>0</td>\n",
       "      <td>01/04/2024</td>\n",
       "    </tr>\n",
       "    <tr>\n",
       "      <th>2</th>\n",
       "      <td>STAR</td>\n",
       "      <td>551</td>\n",
       "      <td>0</td>\n",
       "      <td>01/04/2024</td>\n",
       "    </tr>\n",
       "    <tr>\n",
       "      <th>3</th>\n",
       "      <td>AUTRE(S)</td>\n",
       "      <td>14</td>\n",
       "      <td>0</td>\n",
       "      <td>01/04/2024</td>\n",
       "    </tr>\n",
       "    <tr>\n",
       "      <th>4</th>\n",
       "      <td>PRINCE</td>\n",
       "      <td>72</td>\n",
       "      <td>514</td>\n",
       "      <td>01/04/2024</td>\n",
       "    </tr>\n",
       "  </tbody>\n",
       "</table>\n",
       "</div>"
      ]
     },
     "execution_count": 3,
     "metadata": {},
     "output_type": "execute_result"
    }
   ],
   "execution_count": 3
  },
  {
   "metadata": {
    "ExecuteTime": {
     "end_time": "2024-05-16T14:07:40.472493Z",
     "start_time": "2024-05-16T14:07:40.456250Z"
    }
   },
   "cell_type": "code",
   "source": [
    "df_cleaned_data_operator = pd.read_csv('Resultats/Report SIPPEC Data Operator.csv')\n",
    "df_cleaned_data_operator.head()"
   ],
   "id": "e5700c39b8ac1d2a",
   "outputs": [
    {
     "data": {
      "text/plain": [
       "  Operators  nbreTransaction  montantTransaction        date\n",
       "0    Orange               45              111500  01/04/2024\n",
       "1       MTN              144              368250  01/04/2024\n",
       "2      MOOV               62              116250  01/04/2024\n",
       "3     Autre               16               49000  01/04/2024"
      ],
      "text/html": [
       "<div>\n",
       "<style scoped>\n",
       "    .dataframe tbody tr th:only-of-type {\n",
       "        vertical-align: middle;\n",
       "    }\n",
       "\n",
       "    .dataframe tbody tr th {\n",
       "        vertical-align: top;\n",
       "    }\n",
       "\n",
       "    .dataframe thead th {\n",
       "        text-align: right;\n",
       "    }\n",
       "</style>\n",
       "<table border=\"1\" class=\"dataframe\">\n",
       "  <thead>\n",
       "    <tr style=\"text-align: right;\">\n",
       "      <th></th>\n",
       "      <th>Operators</th>\n",
       "      <th>nbreTransaction</th>\n",
       "      <th>montantTransaction</th>\n",
       "      <th>date</th>\n",
       "    </tr>\n",
       "  </thead>\n",
       "  <tbody>\n",
       "    <tr>\n",
       "      <th>0</th>\n",
       "      <td>Orange</td>\n",
       "      <td>45</td>\n",
       "      <td>111500</td>\n",
       "      <td>01/04/2024</td>\n",
       "    </tr>\n",
       "    <tr>\n",
       "      <th>1</th>\n",
       "      <td>MTN</td>\n",
       "      <td>144</td>\n",
       "      <td>368250</td>\n",
       "      <td>01/04/2024</td>\n",
       "    </tr>\n",
       "    <tr>\n",
       "      <th>2</th>\n",
       "      <td>MOOV</td>\n",
       "      <td>62</td>\n",
       "      <td>116250</td>\n",
       "      <td>01/04/2024</td>\n",
       "    </tr>\n",
       "    <tr>\n",
       "      <th>3</th>\n",
       "      <td>Autre</td>\n",
       "      <td>16</td>\n",
       "      <td>49000</td>\n",
       "      <td>01/04/2024</td>\n",
       "    </tr>\n",
       "  </tbody>\n",
       "</table>\n",
       "</div>"
      ]
     },
     "execution_count": 4,
     "metadata": {},
     "output_type": "execute_result"
    }
   ],
   "execution_count": 4
  },
  {
   "metadata": {
    "ExecuteTime": {
     "end_time": "2024-05-16T14:07:44.041608Z",
     "start_time": "2024-05-16T14:07:44.029278Z"
    }
   },
   "cell_type": "code",
   "source": [
    "df_academician_data = pd.read_csv('Resultats/Report SIPPEC Data Mode Activity.csv')\n",
    "df_academician_data.head()"
   ],
   "id": "11f525ae551aba47",
   "outputs": [
    {
     "data": {
      "text/plain": [
       "         Mode  Academiciens        date codeCouleur\n",
       "0       ACTIF           160  01/04/2024     #58D68D\n",
       "1     BLOQUER            40  01/04/2024     #ff0000\n",
       "2   EN VEILLE            62  01/04/2024     #fafa7d\n",
       "3     INACTIF          1400  01/04/2024     #F1948A\n",
       "4  SEMI ACTIF            78  01/04/2024     #36a2eb"
      ],
      "text/html": [
       "<div>\n",
       "<style scoped>\n",
       "    .dataframe tbody tr th:only-of-type {\n",
       "        vertical-align: middle;\n",
       "    }\n",
       "\n",
       "    .dataframe tbody tr th {\n",
       "        vertical-align: top;\n",
       "    }\n",
       "\n",
       "    .dataframe thead th {\n",
       "        text-align: right;\n",
       "    }\n",
       "</style>\n",
       "<table border=\"1\" class=\"dataframe\">\n",
       "  <thead>\n",
       "    <tr style=\"text-align: right;\">\n",
       "      <th></th>\n",
       "      <th>Mode</th>\n",
       "      <th>Academiciens</th>\n",
       "      <th>date</th>\n",
       "      <th>codeCouleur</th>\n",
       "    </tr>\n",
       "  </thead>\n",
       "  <tbody>\n",
       "    <tr>\n",
       "      <th>0</th>\n",
       "      <td>ACTIF</td>\n",
       "      <td>160</td>\n",
       "      <td>01/04/2024</td>\n",
       "      <td>#58D68D</td>\n",
       "    </tr>\n",
       "    <tr>\n",
       "      <th>1</th>\n",
       "      <td>BLOQUER</td>\n",
       "      <td>40</td>\n",
       "      <td>01/04/2024</td>\n",
       "      <td>#ff0000</td>\n",
       "    </tr>\n",
       "    <tr>\n",
       "      <th>2</th>\n",
       "      <td>EN VEILLE</td>\n",
       "      <td>62</td>\n",
       "      <td>01/04/2024</td>\n",
       "      <td>#fafa7d</td>\n",
       "    </tr>\n",
       "    <tr>\n",
       "      <th>3</th>\n",
       "      <td>INACTIF</td>\n",
       "      <td>1400</td>\n",
       "      <td>01/04/2024</td>\n",
       "      <td>#F1948A</td>\n",
       "    </tr>\n",
       "    <tr>\n",
       "      <th>4</th>\n",
       "      <td>SEMI ACTIF</td>\n",
       "      <td>78</td>\n",
       "      <td>01/04/2024</td>\n",
       "      <td>#36a2eb</td>\n",
       "    </tr>\n",
       "  </tbody>\n",
       "</table>\n",
       "</div>"
      ]
     },
     "execution_count": 5,
     "metadata": {},
     "output_type": "execute_result"
    }
   ],
   "execution_count": 5
  },
  {
   "metadata": {},
   "cell_type": "markdown",
   "source": "## All Data ",
   "id": "48bd0d7027e5f1e5"
  },
  {
   "metadata": {
    "ExecuteTime": {
     "end_time": "2024-05-16T14:07:48.313789Z",
     "start_time": "2024-05-16T14:07:48.309955Z"
    }
   },
   "cell_type": "code",
   "source": [
    "SPREADSHEET_NAME = 'Reporting SIPPEC Academie Data'\n",
    "SHEET_NAME_ALL = f\"SIPPEC Academie Reporting Data ALL\""
   ],
   "id": "45a796b142c6d65e",
   "outputs": [],
   "execution_count": 6
  },
  {
   "metadata": {
    "ExecuteTime": {
     "end_time": "2024-05-16T14:07:50.501633Z",
     "start_time": "2024-05-16T14:07:50.479059Z"
    }
   },
   "cell_type": "code",
   "source": [
    "df_exploded_category = sippec_api.explode_and_rename(df=df_cleaned_data_category, columns_col='Category', value_cols=['nbreScan', 'nbreGroupeProduction'])\n",
    "\n",
    "df_exploded_operator = sippec_api.explode_and_rename(df=df_cleaned_data_operator, columns_col='Operators', value_cols=['nbreTransaction', 'montantTransaction'])\n",
    "\n",
    "df_exploded_academiciens = sippec_api.explode_and_rename(df=df_academician_data, columns_col='Mode', value_cols=['Academiciens'])"
   ],
   "id": "a20b4feb7a3d6d3f",
   "outputs": [],
   "execution_count": 7
  },
  {
   "metadata": {
    "ExecuteTime": {
     "end_time": "2024-05-16T14:07:53.743949Z",
     "start_time": "2024-05-16T14:07:53.739356Z"
    }
   },
   "cell_type": "code",
   "source": [
    "dfs = [df_exploded_category, df_exploded_operator.iloc[:, 1:], df_exploded_academiciens.iloc[:, 1:]]\n",
    "df_combined = pd.concat(dfs, axis=1)"
   ],
   "id": "27e8c4aac90c024a",
   "outputs": [],
   "execution_count": 8
  },
  {
   "metadata": {
    "ExecuteTime": {
     "end_time": "2024-05-16T14:07:55.877621Z",
     "start_time": "2024-05-16T14:07:55.851910Z"
    }
   },
   "cell_type": "code",
   "source": "df_combined",
   "id": "bdfe87af06b200e8",
   "outputs": [
    {
     "data": {
      "text/plain": [
       "         date  AUTRE(S)_nbreGroupeProduction  CHAMPION_nbreGroupeProduction  \\\n",
       "0  01/04/2024                            0.0                            0.0   \n",
       "\n",
       "   PRINCE_nbreGroupeProduction  ROYAL_nbreGroupeProduction  \\\n",
       "0                        514.0                      1028.0   \n",
       "\n",
       "   STAR_nbreGroupeProduction  AUTRE(S)_nbreScan  CHAMPION_nbreScan  \\\n",
       "0                        0.0               14.0              690.0   \n",
       "\n",
       "   PRINCE_nbreScan  ROYAL_nbreScan  ...  Orange_montantTransaction  \\\n",
       "0             72.0           390.0  ...                   111500.0   \n",
       "\n",
       "   Autre_nbreTransaction  MOOV_nbreTransaction  MTN_nbreTransaction  \\\n",
       "0                   16.0                  62.0                144.0   \n",
       "\n",
       "   Orange_nbreTransaction  ACTIF_Academiciens  BLOQUER_Academiciens  \\\n",
       "0                    45.0               160.0                  40.0   \n",
       "\n",
       "   EN VEILLE_Academiciens  INACTIF_Academiciens  SEMI ACTIF_Academiciens  \n",
       "0                    62.0                1400.0                     78.0  \n",
       "\n",
       "[1 rows x 24 columns]"
      ],
      "text/html": [
       "<div>\n",
       "<style scoped>\n",
       "    .dataframe tbody tr th:only-of-type {\n",
       "        vertical-align: middle;\n",
       "    }\n",
       "\n",
       "    .dataframe tbody tr th {\n",
       "        vertical-align: top;\n",
       "    }\n",
       "\n",
       "    .dataframe thead th {\n",
       "        text-align: right;\n",
       "    }\n",
       "</style>\n",
       "<table border=\"1\" class=\"dataframe\">\n",
       "  <thead>\n",
       "    <tr style=\"text-align: right;\">\n",
       "      <th></th>\n",
       "      <th>date</th>\n",
       "      <th>AUTRE(S)_nbreGroupeProduction</th>\n",
       "      <th>CHAMPION_nbreGroupeProduction</th>\n",
       "      <th>PRINCE_nbreGroupeProduction</th>\n",
       "      <th>ROYAL_nbreGroupeProduction</th>\n",
       "      <th>STAR_nbreGroupeProduction</th>\n",
       "      <th>AUTRE(S)_nbreScan</th>\n",
       "      <th>CHAMPION_nbreScan</th>\n",
       "      <th>PRINCE_nbreScan</th>\n",
       "      <th>ROYAL_nbreScan</th>\n",
       "      <th>...</th>\n",
       "      <th>Orange_montantTransaction</th>\n",
       "      <th>Autre_nbreTransaction</th>\n",
       "      <th>MOOV_nbreTransaction</th>\n",
       "      <th>MTN_nbreTransaction</th>\n",
       "      <th>Orange_nbreTransaction</th>\n",
       "      <th>ACTIF_Academiciens</th>\n",
       "      <th>BLOQUER_Academiciens</th>\n",
       "      <th>EN VEILLE_Academiciens</th>\n",
       "      <th>INACTIF_Academiciens</th>\n",
       "      <th>SEMI ACTIF_Academiciens</th>\n",
       "    </tr>\n",
       "  </thead>\n",
       "  <tbody>\n",
       "    <tr>\n",
       "      <th>0</th>\n",
       "      <td>01/04/2024</td>\n",
       "      <td>0.0</td>\n",
       "      <td>0.0</td>\n",
       "      <td>514.0</td>\n",
       "      <td>1028.0</td>\n",
       "      <td>0.0</td>\n",
       "      <td>14.0</td>\n",
       "      <td>690.0</td>\n",
       "      <td>72.0</td>\n",
       "      <td>390.0</td>\n",
       "      <td>...</td>\n",
       "      <td>111500.0</td>\n",
       "      <td>16.0</td>\n",
       "      <td>62.0</td>\n",
       "      <td>144.0</td>\n",
       "      <td>45.0</td>\n",
       "      <td>160.0</td>\n",
       "      <td>40.0</td>\n",
       "      <td>62.0</td>\n",
       "      <td>1400.0</td>\n",
       "      <td>78.0</td>\n",
       "    </tr>\n",
       "  </tbody>\n",
       "</table>\n",
       "<p>1 rows × 24 columns</p>\n",
       "</div>"
      ]
     },
     "execution_count": 9,
     "metadata": {},
     "output_type": "execute_result"
    }
   ],
   "execution_count": 9
  },
  {
   "metadata": {
    "ExecuteTime": {
     "end_time": "2024-05-16T14:08:06.086881Z",
     "start_time": "2024-05-16T14:08:00.653085Z"
    }
   },
   "cell_type": "code",
   "source": "sippec_api.create_or_clear_worksheet(SPREADSHEET_NAME, SHEET_NAME_ALL, df_combined)",
   "id": "91b66ed77976b8b7",
   "outputs": [],
   "execution_count": 10
  },
  {
   "metadata": {},
   "cell_type": "code",
   "source": "df_combined.loc[0, 'date'] = '01/05/2024'",
   "id": "43c0b20d41326999",
   "outputs": [],
   "execution_count": null
  },
  {
   "metadata": {},
   "cell_type": "code",
   "source": "df_combined",
   "id": "2d0e092069168d82",
   "outputs": [],
   "execution_count": null
  },
  {
   "metadata": {},
   "cell_type": "code",
   "source": "sippec_api.create_or_clear_worksheet(gc, SPREADSHEET_NAME, SHEET_NAME, df_combined)",
   "id": "f992c9b0b3b7491a",
   "outputs": [],
   "execution_count": null
  },
  {
   "metadata": {},
   "cell_type": "code",
   "source": "",
   "id": "e86064be3ab17015",
   "outputs": [],
   "execution_count": null
  },
  {
   "metadata": {},
   "cell_type": "code",
   "source": "SHEET_NAME_ALL = f\"SIPPEC Academie Reporting Data ALL\"",
   "id": "567e1278bb79a730",
   "outputs": [],
   "execution_count": null
  },
  {
   "metadata": {},
   "cell_type": "code",
   "source": [
    "df_month_04 = sippec_api.get_data_for_month(gc, SPREADSHEET_NAME, SHEET_NAME_ALL, 2024, 4)\n",
    "df_month_05 = sippec_api.get_data_for_month(gc, SPREADSHEET_NAME, SHEET_NAME_ALL, 2024, 5)"
   ],
   "id": "bf7607658618ec1a",
   "outputs": [],
   "execution_count": null
  },
  {
   "metadata": {},
   "cell_type": "code",
   "source": "df_month_05",
   "id": "435b063c7f7dbdbe",
   "outputs": [],
   "execution_count": null
  },
  {
   "metadata": {},
   "cell_type": "code",
   "source": [
    "df_columns = ['AUTRE(S)_nbreGroupeProduction',\n",
    "              'CHAMPION_nbreGroupeProduction', 'PRINCE_nbreGroupeProduction',\n",
    "              'ROYAL_nbreGroupeProduction', 'STAR_nbreGroupeProduction',\n",
    "              'AUTRE(S)_nbreScan', 'CHAMPION_nbreScan', 'PRINCE_nbreScan',\n",
    "              'ROYAL_nbreScan', 'STAR_nbreScan', 'Autre_montantTransaction',\n",
    "              'MOOV_montantTransaction', 'MTN_montantTransaction',\n",
    "              'Orange_montantTransaction', 'Autre_nbreTransaction',\n",
    "              'MOOV_nbreTransaction', 'MTN_nbreTransaction', 'Orange_nbreTransaction',\n",
    "              'ACTIF_academiciens', 'BLOQUER_academiciens', 'EN VEILLE_academiciens',\n",
    "              'INACTIF_academiciens', 'SEMI ACTIF_academiciens']"
   ],
   "id": "7d8fe6dd66db477e",
   "outputs": [],
   "execution_count": null
  },
  {
   "metadata": {},
   "cell_type": "code",
   "source": "",
   "id": "f96ec0588c17fbdc",
   "outputs": [],
   "execution_count": null
  },
  {
   "metadata": {},
   "cell_type": "code",
   "source": "data_growth_rates = sippec_api.get_multiple_scan_growth_rates(df_month_04, df_month_05, df_columns)",
   "id": "d058533709e07c9c",
   "outputs": [],
   "execution_count": null
  },
  {
   "metadata": {},
   "cell_type": "code",
   "source": "data_growth_rates",
   "id": "5a65e9b485f2bc2c",
   "outputs": [],
   "execution_count": null
  },
  {
   "metadata": {},
   "cell_type": "code",
   "source": [
    "df_data_growth_rates = pd.DataFrame(data_growth_rates,  index=[0])\n",
    "df_data_growth_rates.head()"
   ],
   "id": "df0366b0ef54fa3f",
   "outputs": [],
   "execution_count": null
  },
  {
   "metadata": {},
   "cell_type": "code",
   "source": "sippec_api.create_or_clear_worksheet(gc=gc, spreadsheet_name=SPREADSHEET_NAME, sheet_name=SHEET_NAME, dataframe=df_data_growth_rates, df_row=10, include_header=True)",
   "id": "def5405cd22a8583",
   "outputs": [],
   "execution_count": null
  },
  {
   "metadata": {},
   "cell_type": "code",
   "source": "",
   "id": "e566738667164fb2",
   "outputs": [],
   "execution_count": null
  }
 ],
 "metadata": {
  "kernelspec": {
   "display_name": "Python 3",
   "language": "python",
   "name": "python3"
  },
  "language_info": {
   "codemirror_mode": {
    "name": "ipython",
    "version": 2
   },
   "file_extension": ".py",
   "mimetype": "text/x-python",
   "name": "python",
   "nbconvert_exporter": "python",
   "pygments_lexer": "ipython2",
   "version": "2.7.6"
  }
 },
 "nbformat": 4,
 "nbformat_minor": 5
}
